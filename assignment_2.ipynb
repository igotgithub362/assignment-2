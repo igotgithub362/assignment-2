{
 "cells": [
  {
   "cell_type": "markdown",
   "id": "a720d07f",
   "metadata": {},
   "source": [
    "The input utilizes lists data structures to input data into the program. The list input contains several numbers which represents different entities forming a list.The input list with the numbers is as seen below."
   ]
  },
  {
   "cell_type": "code",
   "execution_count": 12,
   "id": "4c8e09b1",
   "metadata": {},
   "outputs": [],
   "source": [
    "i = [1, 2, 3, 4, 4, 5, 6, 6, 6, 7, 7]"
   ]
  },
  {
   "cell_type": "markdown",
   "id": "85fddd10",
   "metadata": {},
   "source": [
    "The set() function is used to convert the iterable list input above to set data structure"
   ]
  },
  {
   "cell_type": "code",
   "execution_count": 13,
   "id": "a8113ab9",
   "metadata": {},
   "outputs": [],
   "source": [
    "s = set()"
   ]
  },
  {
   "cell_type": "markdown",
   "id": "b6ed39bf",
   "metadata": {},
   "source": [
    "The for loop statement below iterate the list and uses the if statement to check the values in the list which is divisible by 2. The values divisible by 2 are converted into a set data structure which uses curly braces {} as opposed to list which uses []. Set compresions as opposed to list compresions utilizes {} while list compresions utilizes []."
   ]
  },
  {
   "cell_type": "code",
   "execution_count": 16,
   "id": "3ca7bc52",
   "metadata": {},
   "outputs": [],
   "source": [
    "for v in i:\n",
    "    if v % 2 == 0:\n",
    "        s.add(v)"
   ]
  },
  {
   "cell_type": "markdown",
   "id": "69256ca7",
   "metadata": {},
   "source": [
    "The output of number divisible by 2 in set compresions are as seen below."
   ]
  },
  {
   "cell_type": "code",
   "execution_count": 19,
   "id": "5893ec81",
   "metadata": {},
   "outputs": [
    {
     "name": "stdout",
     "output_type": "stream",
     "text": [
      "Set compresions divisible by 2: {2, 4, 6}\n"
     ]
    }
   ],
   "source": [
    "print(\"Set compresions divisible by 2:\", s)"
   ]
  },
  {
   "cell_type": "markdown",
   "id": "b2f7bca3",
   "metadata": {},
   "source": [
    "The exercise utilizes advance data structures list as the input while set is the output of the program. The program checks all the values in the list input whether they are divisible by 2. The answers divisible by 2 are then added into a set data structure."
   ]
  },
  {
   "cell_type": "code",
   "execution_count": null,
   "id": "813fed81",
   "metadata": {},
   "outputs": [],
   "source": []
  }
 ],
 "metadata": {
  "kernelspec": {
   "display_name": "Python 3",
   "language": "python",
   "name": "python3"
  },
  "language_info": {
   "codemirror_mode": {
    "name": "ipython",
    "version": 3
   },
   "file_extension": ".py",
   "mimetype": "text/x-python",
   "name": "python",
   "nbconvert_exporter": "python",
   "pygments_lexer": "ipython3",
   "version": "3.9.4"
  }
 },
 "nbformat": 4,
 "nbformat_minor": 5
}
